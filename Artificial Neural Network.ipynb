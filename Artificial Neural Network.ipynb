{
 "cells": [
  {
   "cell_type": "markdown",
   "metadata": {},
   "source": [
    "# Artificial Neural Network Model"
   ]
  },
  {
   "cell_type": "markdown",
   "metadata": {},
   "source": [
    "### 3.1 Train Test Split\n",
    "<p> Set X and y variables to the values of the features and label.</p>"
   ]
  },
  {
   "cell_type": "code",
   "execution_count": 25,
   "metadata": {},
   "outputs": [],
   "source": [
    "import pandas as pd\n",
    "import matplotlib.pyplot as plt"
   ]
  },
  {
   "cell_type": "code",
   "execution_count": 2,
   "metadata": {},
   "outputs": [],
   "source": [
    "df_copy = pd.read_csv('dataset/preprocessed_data.csv')"
   ]
  },
  {
   "cell_type": "code",
   "execution_count": 3,
   "metadata": {},
   "outputs": [],
   "source": [
    "# loan_repaid column is the label column in this dataframe and all other columns are feature columns\n",
    "# label column\n",
    "y = df_copy['loan_repaid'].values"
   ]
  },
  {
   "cell_type": "code",
   "execution_count": 4,
   "metadata": {},
   "outputs": [
    {
     "name": "stdout",
     "output_type": "stream",
     "text": [
      "[1 1 1 ... 1 1 1]\n"
     ]
    }
   ],
   "source": [
    "print(y)"
   ]
  },
  {
   "cell_type": "code",
   "execution_count": 5,
   "metadata": {},
   "outputs": [
    {
     "data": {
      "text/plain": [
       "Index(['Unnamed: 0', 'Unnamed: 0.1', 'loan_amnt', 'term', 'int_rate',\n",
       "       'installment', 'annual_inc', 'dti', 'open_acc', 'pub_rec', 'revol_bal',\n",
       "       'revol_util', 'total_acc', 'mort_acc', 'pub_rec_bankruptcies',\n",
       "       'loan_repaid', 'A2', 'A3', 'A4', 'A5', 'B1', 'B2', 'B3', 'B4', 'B5',\n",
       "       'C1', 'C2', 'C3', 'C4', 'C5', 'D1', 'D2', 'D3', 'D4', 'D5', 'E1', 'E2',\n",
       "       'E3', 'E4', 'E5', 'F1', 'F2', 'F3', 'F4', 'F5', 'G1', 'G2', 'G3', 'G4',\n",
       "       'G5', 'verification_status_Source Verified',\n",
       "       'verification_status_Verified', 'application_type_INDIVIDUAL',\n",
       "       'application_type_JOINT', 'initial_list_status_w',\n",
       "       'purpose_credit_card', 'purpose_debt_consolidation',\n",
       "       'purpose_educational', 'purpose_home_improvement', 'purpose_house',\n",
       "       'purpose_major_purchase', 'purpose_medical', 'purpose_moving',\n",
       "       'purpose_other', 'purpose_renewable_energy', 'purpose_small_business',\n",
       "       'purpose_vacation', 'purpose_wedding', 'OTHER', 'OWN', 'RENT', '05113',\n",
       "       '11650', '22690', '29597', '30723', '48052', '70466', '86630', '93700',\n",
       "       'earliest_cr_year'],\n",
       "      dtype='object')"
      ]
     },
     "execution_count": 5,
     "metadata": {},
     "output_type": "execute_result"
    }
   ],
   "source": [
    "df_copy.columns"
   ]
  },
  {
   "cell_type": "code",
   "execution_count": 6,
   "metadata": {},
   "outputs": [],
   "source": [
    "# Feature columns\n",
    "X = df_copy.drop('loan_repaid',axis=1).values"
   ]
  },
  {
   "cell_type": "code",
   "execution_count": 7,
   "metadata": {},
   "outputs": [
    {
     "name": "stdout",
     "output_type": "stream",
     "text": [
      "[[0.00000e+00 0.00000e+00 1.00000e+04 ... 0.00000e+00 0.00000e+00\n",
      "  1.99000e+03]\n",
      " [1.00000e+00 1.00000e+00 8.00000e+03 ... 0.00000e+00 0.00000e+00\n",
      "  2.00400e+03]\n",
      " [2.00000e+00 2.00000e+00 1.56000e+04 ... 0.00000e+00 0.00000e+00\n",
      "  2.00700e+03]\n",
      " ...\n",
      " [3.96027e+05 3.96027e+05 5.00000e+03 ... 0.00000e+00 0.00000e+00\n",
      "  1.99700e+03]\n",
      " [3.96028e+05 3.96028e+05 2.10000e+04 ... 0.00000e+00 0.00000e+00\n",
      "  1.99000e+03]\n",
      " [3.96029e+05 3.96029e+05 2.00000e+03 ... 0.00000e+00 0.00000e+00\n",
      "  1.99800e+03]]\n"
     ]
    }
   ],
   "source": [
    "print(X)"
   ]
  },
  {
   "cell_type": "markdown",
   "metadata": {},
   "source": [
    "###  4.1\n",
    "<p><b> Performing a train/test split with test_size=0.2 and a random_state of 101.</b><p>"
   ]
  },
  {
   "cell_type": "code",
   "execution_count": 8,
   "metadata": {},
   "outputs": [],
   "source": [
    "from sklearn.model_selection import train_test_split\n",
    "X_train, X_test, y_train, y_test = train_test_split(X, y, test_size = 0.2, random_state = 101)"
   ]
  },
  {
   "cell_type": "code",
   "execution_count": 9,
   "metadata": {},
   "outputs": [
    {
     "name": "stdout",
     "output_type": "stream",
     "text": [
      "[[372845. 372845.   9700. ...      0.      0.   2006.]\n",
      " [  8087.   8087.  20000. ...      0.      0.   2003.]\n",
      " [381049. 381049.  13350. ...      0.      0.   2003.]\n",
      " ...\n",
      " [205041. 205041.   8550. ...      0.      0.   2000.]\n",
      " [214988. 214988.  12000. ...      0.      0.   1999.]\n",
      " [177347. 177347.  35000. ...      0.      0.   1997.]]\n"
     ]
    }
   ],
   "source": [
    "print(X_train)"
   ]
  },
  {
   "cell_type": "code",
   "execution_count": 10,
   "metadata": {},
   "outputs": [
    {
     "name": "stdout",
     "output_type": "stream",
     "text": [
      "[[2.04901e+05 2.04901e+05 1.48000e+04 ... 0.00000e+00 0.00000e+00\n",
      "  1.99200e+03]\n",
      " [2.26870e+05 2.26870e+05 3.10000e+04 ... 0.00000e+00 0.00000e+00\n",
      "  1.99600e+03]\n",
      " [2.41733e+05 2.41733e+05 2.20000e+04 ... 0.00000e+00 0.00000e+00\n",
      "  2.00300e+03]\n",
      " ...\n",
      " [6.26470e+04 6.26470e+04 5.00000e+03 ... 0.00000e+00 0.00000e+00\n",
      "  2.00800e+03]\n",
      " [2.15885e+05 2.15885e+05 2.01000e+04 ... 0.00000e+00 0.00000e+00\n",
      "  1.99900e+03]\n",
      " [1.85580e+04 1.85580e+04 1.44000e+04 ... 1.00000e+00 0.00000e+00\n",
      "  2.00200e+03]]\n"
     ]
    }
   ],
   "source": [
    "print(X_test)"
   ]
  },
  {
   "cell_type": "code",
   "execution_count": 11,
   "metadata": {},
   "outputs": [
    {
     "name": "stdout",
     "output_type": "stream",
     "text": [
      "[1 1 1 ... 1 1 1]\n"
     ]
    }
   ],
   "source": [
    "print(y_train)"
   ]
  },
  {
   "cell_type": "code",
   "execution_count": 12,
   "metadata": {},
   "outputs": [
    {
     "name": "stdout",
     "output_type": "stream",
     "text": [
      "[1 1 1 ... 0 1 0]\n"
     ]
    }
   ],
   "source": [
    "print(y_test)"
   ]
  },
  {
   "cell_type": "markdown",
   "metadata": {},
   "source": [
    "### 4.2\n",
    "<p><b> Using MinMaxScaler to normalize the feature data X_train and X_test.</b></p>"
   ]
  },
  {
   "cell_type": "code",
   "execution_count": 13,
   "metadata": {},
   "outputs": [],
   "source": [
    "from sklearn.preprocessing import MinMaxScaler\n",
    "scaler = MinMaxScaler()\n",
    "X_train = scaler.fit_transform(X_train)\n",
    "X_test= scaler.transform(X_test)"
   ]
  },
  {
   "cell_type": "code",
   "execution_count": 14,
   "metadata": {},
   "outputs": [
    {
     "name": "stdout",
     "output_type": "stream",
     "text": [
      "[[0.94145883 0.94145883 0.22307692 ... 0.         0.         0.89855072]\n",
      " [0.02042022 0.02042022 0.48717949 ... 0.         0.         0.85507246]\n",
      " [0.96217449 0.96217449 0.31666667 ... 0.         0.         0.85507246]\n",
      " ...\n",
      " [0.51774239 0.51774239 0.19358974 ... 0.         0.         0.8115942 ]\n",
      " [0.54285924 0.54285924 0.28205128 ... 0.         0.         0.79710145]\n",
      " [0.44781317 0.44781317 0.87179487 ... 0.         0.         0.76811594]]\n"
     ]
    }
   ],
   "source": [
    "print(X_train)"
   ]
  },
  {
   "cell_type": "code",
   "execution_count": 15,
   "metadata": {},
   "outputs": [
    {
     "name": "stdout",
     "output_type": "stream",
     "text": [
      "[[0.51738888 0.51738888 0.35384615 ... 0.         0.         0.69565217]\n",
      " [0.57286209 0.57286209 0.76923077 ... 0.         0.         0.75362319]\n",
      " [0.61039217 0.61039217 0.53846154 ... 0.         0.         0.85507246]\n",
      " ...\n",
      " [0.15818791 0.15818791 0.1025641  ... 0.         0.         0.92753623]\n",
      " [0.54512422 0.54512422 0.48974359 ... 0.         0.         0.79710145]\n",
      " [0.0468602  0.0468602  0.34358974 ... 1.         0.         0.84057971]]\n"
     ]
    }
   ],
   "source": [
    "print(X_test)"
   ]
  },
  {
   "cell_type": "markdown",
   "metadata": {},
   "source": [
    "###  5.1 (Creating Model) \n",
    "<p> Building a sequential model.Also, adding Dropout layers in order to avoid the overfitting problem. </p>\n",
    "<p><b>a. Initializing ANN </b></p>"
   ]
  },
  {
   "cell_type": "code",
   "execution_count": 16,
   "metadata": {},
   "outputs": [],
   "source": [
    "import tensorflow as tf\n",
    "from tensorflow.keras.models import Sequential\n",
    "ann_model=Sequential()"
   ]
  },
  {
   "cell_type": "markdown",
   "metadata": {},
   "source": [
    "<b>b. Adding Input Layer </b>"
   ]
  },
  {
   "cell_type": "code",
   "execution_count": 17,
   "metadata": {},
   "outputs": [],
   "source": [
    "# In the Input layer I have taken 78 units because total number of columns in dataset are 78.\n",
    "from tensorflow.keras.layers import Dropout\n",
    "ann_model.add(tf.keras.layers.Dense(78,activation='relu'))\n",
    "ann_model.add(Dropout(0.2))"
   ]
  },
  {
   "cell_type": "markdown",
   "metadata": {},
   "source": [
    "<b>c. Adding Hidden Layer </b>"
   ]
  },
  {
   "cell_type": "code",
   "execution_count": 18,
   "metadata": {},
   "outputs": [],
   "source": [
    "ann_model.add(tf.keras.layers.Dense(48, activation='relu'))\n",
    "ann_model.add(Dropout(0.2))"
   ]
  },
  {
   "cell_type": "markdown",
   "metadata": {},
   "source": [
    "<b>d. Adding Second Hidden Layer</b>"
   ]
  },
  {
   "cell_type": "code",
   "execution_count": 19,
   "metadata": {},
   "outputs": [],
   "source": [
    "ann_model.add(tf.keras.layers.Dense(22, activation='relu'))\n",
    "ann_model.add(Dropout(0.2))"
   ]
  },
  {
   "cell_type": "markdown",
   "metadata": {},
   "source": [
    "<b> e. Adding Output Layer</b>\n"
   ]
  },
  {
   "cell_type": "code",
   "execution_count": 20,
   "metadata": {},
   "outputs": [],
   "source": [
    "# In the output layyer I am adding Sigmoid activation function which will help us in determining the probability of\n",
    "# a datapoint of belonging to a particular class\n",
    "ann_model.add(tf.keras.layers.Dense(1, activation='sigmoid'))"
   ]
  },
  {
   "cell_type": "markdown",
   "metadata": {},
   "source": [
    "<b>Compiling the Model</b>"
   ]
  },
  {
   "cell_type": "code",
   "execution_count": 21,
   "metadata": {},
   "outputs": [],
   "source": [
    "# I have chosen adam optimizer as I am using Adaptive Gradient descent approach. \n",
    "ann_model.compile(optimizer = 'adam', loss = 'binary_crossentropy',metrics=['accuracy'])"
   ]
  },
  {
   "cell_type": "markdown",
   "metadata": {},
   "source": [
    "### 5.2\n",
    "<b> Training model with 25 epochs and batch_size of 256."
   ]
  },
  {
   "cell_type": "code",
   "execution_count": 22,
   "metadata": {},
   "outputs": [
    {
     "name": "stderr",
     "output_type": "stream",
     "text": [
      "2021-12-13 20:50:59.336506: I tensorflow/core/platform/cpu_feature_guard.cc:145] This TensorFlow binary is optimized with Intel(R) MKL-DNN to use the following CPU instructions in performance critical operations:  SSE4.1 SSE4.2\n",
      "To enable them in non-MKL-DNN operations, rebuild TensorFlow with the appropriate compiler flags.\n",
      "2021-12-13 20:50:59.337230: I tensorflow/core/common_runtime/process_util.cc:115] Creating new thread pool with default inter op setting: 8. Tune using inter_op_parallelism_threads for best performance.\n"
     ]
    },
    {
     "name": "stdout",
     "output_type": "stream",
     "text": [
      "Train on 316175 samples, validate on 79044 samples\n",
      "Epoch 1/25\n",
      "316175/316175 [==============================] - 12s 38us/sample - loss: 0.2968 - accuracy: 0.8788 - val_loss: 0.2638 - val_accuracy: 0.8873\n",
      "Epoch 2/25\n",
      "316175/316175 [==============================] - 10s 31us/sample - loss: 0.2649 - accuracy: 0.8884 - val_loss: 0.2629 - val_accuracy: 0.8869\n",
      "Epoch 3/25\n",
      "316175/316175 [==============================] - 10s 31us/sample - loss: 0.2630 - accuracy: 0.8882 - val_loss: 0.2623 - val_accuracy: 0.8869\n",
      "Epoch 4/25\n",
      "316175/316175 [==============================] - 10s 31us/sample - loss: 0.2616 - accuracy: 0.8883 - val_loss: 0.2626 - val_accuracy: 0.8869\n",
      "Epoch 5/25\n",
      "316175/316175 [==============================] - 10s 32us/sample - loss: 0.2608 - accuracy: 0.8885 - val_loss: 0.2620 - val_accuracy: 0.8869\n",
      "Epoch 6/25\n",
      "316175/316175 [==============================] - 11s 34us/sample - loss: 0.2603 - accuracy: 0.8885 - val_loss: 0.2618 - val_accuracy: 0.8869\n",
      "Epoch 7/25\n",
      "316175/316175 [==============================] - 11s 34us/sample - loss: 0.2599 - accuracy: 0.8887 - val_loss: 0.2620 - val_accuracy: 0.8869\n",
      "Epoch 8/25\n",
      "316175/316175 [==============================] - 14s 44us/sample - loss: 0.2593 - accuracy: 0.8886 - val_loss: 0.2617 - val_accuracy: 0.8871\n",
      "Epoch 9/25\n",
      "316175/316175 [==============================] - 13s 40us/sample - loss: 0.2591 - accuracy: 0.8885 - val_loss: 0.2615 - val_accuracy: 0.8870\n",
      "Epoch 10/25\n",
      "316175/316175 [==============================] - 11s 36us/sample - loss: 0.2587 - accuracy: 0.8887 - val_loss: 0.2617 - val_accuracy: 0.8870\n",
      "Epoch 11/25\n",
      "316175/316175 [==============================] - 11s 35us/sample - loss: 0.2584 - accuracy: 0.8889 - val_loss: 0.2615 - val_accuracy: 0.8871\n",
      "Epoch 12/25\n",
      "316175/316175 [==============================] - 10s 32us/sample - loss: 0.2578 - accuracy: 0.8885 - val_loss: 0.2608 - val_accuracy: 0.8873\n",
      "Epoch 13/25\n",
      "316175/316175 [==============================] - 10s 33us/sample - loss: 0.2579 - accuracy: 0.8886 - val_loss: 0.2608 - val_accuracy: 0.8873\n",
      "Epoch 14/25\n",
      "316175/316175 [==============================] - 10s 32us/sample - loss: 0.2574 - accuracy: 0.8886 - val_loss: 0.2609 - val_accuracy: 0.8870\n",
      "Epoch 15/25\n",
      "316175/316175 [==============================] - 11s 33us/sample - loss: 0.2573 - accuracy: 0.8888 - val_loss: 0.2608 - val_accuracy: 0.8873\n",
      "Epoch 16/25\n",
      "316175/316175 [==============================] - 11s 34us/sample - loss: 0.2569 - accuracy: 0.8886 - val_loss: 0.2613 - val_accuracy: 0.8873\n",
      "Epoch 17/25\n",
      "316175/316175 [==============================] - 11s 35us/sample - loss: 0.2569 - accuracy: 0.8890 - val_loss: 0.2609 - val_accuracy: 0.8873\n",
      "Epoch 18/25\n",
      "316175/316175 [==============================] - 11s 35us/sample - loss: 0.2569 - accuracy: 0.8887 - val_loss: 0.2615 - val_accuracy: 0.8871\n",
      "Epoch 19/25\n",
      "316175/316175 [==============================] - 11s 34us/sample - loss: 0.2563 - accuracy: 0.8890 - val_loss: 0.2611 - val_accuracy: 0.8875\n",
      "Epoch 20/25\n",
      "316175/316175 [==============================] - 11s 34us/sample - loss: 0.2562 - accuracy: 0.8890 - val_loss: 0.2608 - val_accuracy: 0.8875\n",
      "Epoch 21/25\n",
      "316175/316175 [==============================] - 11s 34us/sample - loss: 0.2562 - accuracy: 0.8890 - val_loss: 0.2611 - val_accuracy: 0.8881\n",
      "Epoch 22/25\n",
      "316175/316175 [==============================] - 11s 35us/sample - loss: 0.2558 - accuracy: 0.8892 - val_loss: 0.2610 - val_accuracy: 0.8874\n",
      "Epoch 23/25\n",
      "316175/316175 [==============================] - 12s 37us/sample - loss: 0.2556 - accuracy: 0.8893 - val_loss: 0.2615 - val_accuracy: 0.8874\n",
      "Epoch 24/25\n",
      "316175/316175 [==============================] - 11s 33us/sample - loss: 0.2556 - accuracy: 0.8892 - val_loss: 0.2612 - val_accuracy: 0.8874\n",
      "Epoch 25/25\n",
      "316175/316175 [==============================] - 11s 33us/sample - loss: 0.2556 - accuracy: 0.8891 - val_loss: 0.2611 - val_accuracy: 0.8874\n"
     ]
    },
    {
     "data": {
      "text/plain": [
       "<tensorflow.python.keras.callbacks.History at 0x7fec16852890>"
      ]
     },
     "execution_count": 22,
     "metadata": {},
     "output_type": "execute_result"
    }
   ],
   "source": [
    "ann_model.fit(X_train, y_train, batch_size = 256, epochs = 25, validation_data=(X_test, y_test))"
   ]
  },
  {
   "cell_type": "markdown",
   "metadata": {},
   "source": [
    "### 5.3\n",
    "<b> Saving the Model </b>"
   ]
  },
  {
   "cell_type": "code",
   "execution_count": 23,
   "metadata": {},
   "outputs": [],
   "source": [
    "from tensorflow.keras.models import load_model\n",
    "ann_model.save('Loan_Repayment_Predictor.h5')  "
   ]
  },
  {
   "cell_type": "markdown",
   "metadata": {},
   "source": [
    "## Evaluating Model Performance\n"
   ]
  },
  {
   "cell_type": "markdown",
   "metadata": {},
   "source": [
    "###  6.1\n",
    "<b> Validation loss versus the training loss </b>"
   ]
  },
  {
   "cell_type": "code",
   "execution_count": 26,
   "metadata": {},
   "outputs": [
    {
     "data": {
      "image/png": "[encoded data removed]",
      "text/plain": [
       "<Figure size 432x288 with 1 Axes>"
      ]
     },
     "metadata": {
      "needs_background": "light"
     },
     "output_type": "display_data"
    }
   ],
   "source": [
    "train_loss = ann_model.history.history['loss']\n",
    "validation_loss = ann_model.history.history['val_loss']\n",
    "epochs = range(1,26)\n",
    "plt.plot(epochs, train_loss, 'g', label='Training loss')\n",
    "plt.plot(epochs, validation_loss, 'b', label='Validation loss')\n",
    "plt.title('Training and Validation loss')\n",
    "plt.xlabel('Epochs')\n",
    "plt.ylabel('Loss')\n",
    "plt.legend()\n",
    "plt.show()"
   ]
  },
  {
   "cell_type": "markdown",
   "metadata": {},
   "source": [
    "### 6.2\n",
    "<b> a. Creating predictions from the X_test. </b>  "
   ]
  },
  {
   "cell_type": "code",
   "execution_count": 27,
   "metadata": {},
   "outputs": [
    {
     "name": "stdout",
     "output_type": "stream",
     "text": [
      "[[1]\n",
      " [1]\n",
      " [1]\n",
      " ...\n",
      " [1]\n",
      " [1]\n",
      " [0]]\n"
     ]
    }
   ],
   "source": [
    "predictions = ann_model.predict_classes(X_test)\n",
    "print(predictions)"
   ]
  },
  {
   "cell_type": "markdown",
   "metadata": {},
   "source": [
    "<b> b. Classification report for the X_test set.</b> "
   ]
  },
  {
   "cell_type": "code",
   "execution_count": 28,
   "metadata": {},
   "outputs": [
    {
     "name": "stdout",
     "output_type": "stream",
     "text": [
      "              precision    recall  f1-score   support\n",
      "\n",
      "           0       0.99      0.44      0.61     15658\n",
      "           1       0.88      1.00      0.93     63386\n",
      "\n",
      "    accuracy                           0.89     79044\n",
      "   macro avg       0.93      0.72      0.77     79044\n",
      "weighted avg       0.90      0.89      0.87     79044\n",
      "\n"
     ]
    }
   ],
   "source": [
    "from sklearn.metrics import classification_report,confusion_matrix\n",
    "print(classification_report(y_test, predictions))"
   ]
  },
  {
   "cell_type": "markdown",
   "metadata": {},
   "source": [
    "<b>c. Confusion matrix for the X_test set.</b>"
   ]
  },
  {
   "cell_type": "code",
   "execution_count": 29,
   "metadata": {},
   "outputs": [
    {
     "name": "stdout",
     "output_type": "stream",
     "text": [
      "[[ 6858  8800]\n",
      " [   99 63287]]\n"
     ]
    }
   ],
   "source": [
    "print(confusion_matrix(y_test, predictions))"
   ]
  },
  {
   "cell_type": "markdown",
   "metadata": {},
   "source": [
    "### 6.3\n",
    "<p> Select any random customer from the dataset, would you offer this person a loan?</p>"
   ]
  },
  {
   "cell_type": "code",
   "execution_count": 40,
   "metadata": {},
   "outputs": [],
   "source": [
    "import random\n",
    "random.seed(101)\n",
    "random_ind = random.randint(0,len(df_copy))\n",
    "new_customer = df_copy.drop('loan_repaid',axis=1).iloc[random_ind]"
   ]
  },
  {
   "cell_type": "markdown",
   "metadata": {},
   "source": [
    "### TASK 6.4 \n",
    "<p>Check, did this person actually end up paying back their loan?</p>"
   ]
  },
  {
   "cell_type": "code",
   "execution_count": 41,
   "metadata": {},
   "outputs": [],
   "source": [
    "new_customer = ann_model.predict_classes(new_customer.values.reshape(1,80))"
   ]
  },
  {
   "cell_type": "code",
   "execution_count": 42,
   "metadata": {},
   "outputs": [
    {
     "data": {
      "text/plain": [
       "array([[1]], dtype=int32)"
      ]
     },
     "execution_count": 42,
     "metadata": {},
     "output_type": "execute_result"
    }
   ],
   "source": [
    "# Predections\n",
    "new_customer"
   ]
  },
  {
   "cell_type": "code",
   "execution_count": 43,
   "metadata": {},
   "outputs": [
    {
     "data": {
      "text/plain": [
       "1"
      ]
     },
     "execution_count": 43,
     "metadata": {},
     "output_type": "execute_result"
    }
   ],
   "source": [
    "# Actual Data\n",
    "df.iloc[random_ind]['loan_repaid']"
   ]
  },
  {
   "cell_type": "markdown",
   "metadata": {},
   "source": [
    "## END"
   ]
  }
 ],
 "metadata": {
  "kernelspec": {
   "display_name": "Python 3 (ipykernel)",
   "language": "python",
   "name": "python3"
  },
  "language_info": {
   "codemirror_mode": {
    "name": "ipython",
    "version": 3
   },
   "file_extension": ".py",
   "mimetype": "text/x-python",
   "name": "python",
   "nbconvert_exporter": "python",
   "pygments_lexer": "ipython3",
   "version": "3.7.11"
  }
 },
 "nbformat": 4,
 "nbformat_minor": 4
}
